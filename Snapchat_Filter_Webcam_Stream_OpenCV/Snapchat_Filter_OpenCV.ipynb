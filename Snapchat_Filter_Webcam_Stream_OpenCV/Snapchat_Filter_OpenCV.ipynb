{
 "cells": [
  {
   "cell_type": "code",
   "execution_count": 1,
   "metadata": {},
   "outputs": [
    {
     "name": "stderr",
     "output_type": "stream",
     "text": [
      "In /home/tanishk/.local/lib/python3.6/site-packages/matplotlib/mpl-data/stylelib/_classic_test.mplstyle: \n",
      "The text.latex.preview rcparam was deprecated in Matplotlib 3.3 and will be removed two minor releases later.\n",
      "In /home/tanishk/.local/lib/python3.6/site-packages/matplotlib/mpl-data/stylelib/_classic_test.mplstyle: \n",
      "The mathtext.fallback_to_cm rcparam was deprecated in Matplotlib 3.3 and will be removed two minor releases later.\n",
      "In /home/tanishk/.local/lib/python3.6/site-packages/matplotlib/mpl-data/stylelib/_classic_test.mplstyle: Support for setting the 'mathtext.fallback_to_cm' rcParam is deprecated since 3.3 and will be removed two minor releases later; use 'mathtext.fallback : 'cm' instead.\n",
      "In /home/tanishk/.local/lib/python3.6/site-packages/matplotlib/mpl-data/stylelib/_classic_test.mplstyle: \n",
      "The validate_bool_maybe_none function was deprecated in Matplotlib 3.3 and will be removed two minor releases later.\n",
      "In /home/tanishk/.local/lib/python3.6/site-packages/matplotlib/mpl-data/stylelib/_classic_test.mplstyle: \n",
      "The savefig.jpeg_quality rcparam was deprecated in Matplotlib 3.3 and will be removed two minor releases later.\n",
      "In /home/tanishk/.local/lib/python3.6/site-packages/matplotlib/mpl-data/stylelib/_classic_test.mplstyle: \n",
      "The keymap.all_axes rcparam was deprecated in Matplotlib 3.3 and will be removed two minor releases later.\n",
      "In /home/tanishk/.local/lib/python3.6/site-packages/matplotlib/mpl-data/stylelib/_classic_test.mplstyle: \n",
      "The animation.avconv_path rcparam was deprecated in Matplotlib 3.3 and will be removed two minor releases later.\n",
      "In /home/tanishk/.local/lib/python3.6/site-packages/matplotlib/mpl-data/stylelib/_classic_test.mplstyle: \n",
      "The animation.avconv_args rcparam was deprecated in Matplotlib 3.3 and will be removed two minor releases later.\n"
     ]
    }
   ],
   "source": [
    "import cv2\n",
    "import numpy as np\n",
    "import matplotlib.pyplot as plt\n",
    "import warnings\n",
    "warnings.filterwarnings('ignore')\n",
    "from utils import CFEVideoConf, image_resize"
   ]
  },
  {
   "cell_type": "code",
   "execution_count": 2,
   "metadata": {},
   "outputs": [],
   "source": [
    "nose_cascade = cv2.CascadeClassifier(\"./Train/third-party/Nose18x15.xml\")\n",
    "face_cascade = cv2.CascadeClassifier(\"./Train/third-party/haarcascade_frontalface_alt.xml\")\n",
    "eyes_cascade = cv2.CascadeClassifier(\"./Train/third-party/frontalEyes35x16.xml\")"
   ]
  },
  {
   "cell_type": "code",
   "execution_count": 3,
   "metadata": {},
   "outputs": [],
   "source": [
    "imgMustache = cv2.imread(\"./Train/mustache.png\",-1)\n",
    "imgGlasses = cv2.imread(\"./Train/glasses.png\",-1)"
   ]
  },
  {
   "cell_type": "code",
   "execution_count": 4,
   "metadata": {},
   "outputs": [],
   "source": [
    "orig_mask = imgMustache[:,:,3]\n",
    "orig_mask_inv = cv2.bitwise_not(orig_mask)\n",
    "\n",
    "orig_mask_glasses = imgGlasses[:,:,3]\n",
    "orig_mask_glasses_inv = cv2.bitwise_not(orig_mask_glasses)"
   ]
  },
  {
   "cell_type": "code",
   "execution_count": 5,
   "metadata": {},
   "outputs": [],
   "source": [
    "imgMustache = imgMustache[:,:,0:3]\n",
    "origMustacheHeight, origMustacheWidth = imgMustache.shape[:2]\n",
    "\n",
    "imgGlasses = imgGlasses[:,:,0:3]\n",
    "origGlassesHeight, origGlassesWidth = imgGlasses.shape[:2]"
   ]
  },
  {
   "cell_type": "code",
   "execution_count": 8,
   "metadata": {},
   "outputs": [],
   "source": [
    "video_capture = cv2.VideoCapture(0)\n",
    "\n",
    "while True:\n",
    "    \n",
    "    ret, frame = video_capture.read()\n",
    "    \n",
    "    if ret == False :\n",
    "        \n",
    "        continue\n",
    "    \n",
    "    \n",
    "    gray = cv2.cvtColor(frame, cv2.COLOR_BGR2GRAY)\n",
    "    \n",
    "    faces = face_cascade.detectMultiScale(gray,1.3,5)\n",
    "    \n",
    "    for (x, y, w, h) in faces:\n",
    "        cv2.rectangle(frame,(x,y),(x+w,y+h),(255,0,0),2)\n",
    "        roi_gray = gray[y:y+h, x:x+w]\n",
    "        roi_color = frame[y:y+h, x:x+w]\n",
    "        \n",
    "        nose = nose_cascade.detectMultiScale(roi_gray,1.3,6,minSize =(60,60))\n",
    "        eyes = eyes_cascade.detectMultiScale(roi_gray,1.3,6, minSize =(60,60))\n",
    "    \n",
    "        for (nx,ny,nw,nh) in nose:\n",
    "        \n",
    "            cv2.rectangle(roi_color,(nx,ny),(nx+nw,ny+nh),(255,0,0),2)\n",
    "            mustacheWidth =  nw\n",
    "            mustacheHeight = mustacheWidth * origMustacheHeight / origMustacheWidth\n",
    "            \n",
    "            x1 = int(nx - (mustacheWidth/4))\n",
    "            x2 = int(nx + nw + (mustacheWidth/4))\n",
    "            y1 = int(ny + nh - (mustacheHeight/1.5))\n",
    "            y2 = int(ny + nh + (mustacheHeight/2))\n",
    "            \n",
    "            if x1 < 0:\n",
    "                x1 = 0\n",
    "            if y1 < 0:\n",
    "                y1 = 0\n",
    "            if x2 > w:\n",
    "                x2 = w\n",
    "            if y2 > h:\n",
    "                y2 = h\n",
    "                \n",
    "            mustacheWidth = int(x2 - x1)\n",
    "            mustacheHeight = int(y2 - y1)\n",
    "            \n",
    "            mustache = cv2.resize(imgMustache, (mustacheWidth,mustacheHeight), interpolation = cv2.INTER_AREA)\n",
    "            mask = cv2.resize(orig_mask, (mustacheWidth,mustacheHeight), interpolation = cv2.INTER_AREA)\n",
    "            mask_inv = cv2.resize(orig_mask_inv, (mustacheWidth,mustacheHeight), interpolation = cv2.INTER_AREA)\n",
    " \n",
    "            roi = roi_color[y1:y2, x1:x2]\n",
    "            roi_bg = cv2.bitwise_and(roi,roi,mask = mask_inv)\n",
    "        \n",
    "            roi_fg = cv2.bitwise_and(mustache,mustache,mask = mask)\n",
    "            dst = cv2.add(roi_bg,roi_fg)\n",
    "            \n",
    "            \n",
    "            roi_color[y1:y2, x1:x2] = dst\n",
    "            \n",
    "    \n",
    "            \n",
    "            \n",
    "            break\n",
    "                \n",
    "        for (ex,ey,ew,eh) in eyes:\n",
    "            \n",
    "            cv2.rectangle(roi_color,(ex,ey),(ex+ew,ey+eh),(255,0,0),2)\n",
    "            glassesWidth =  ew\n",
    "            glassesHeight = glassesWidth * origGlassesHeight/origGlassesWidth\n",
    "            \n",
    "            ex1 = int(ex - (glassesWidth/1.5))\n",
    "            ex2 = int(ex + ew + (glassesWidth/2.0))\n",
    "            ey1 = int(ey + eh - (glassesHeight+20))\n",
    "            ey2 = int(ey + eh + (glassesHeight/3))\n",
    "            \n",
    "            if ex1 < 0:\n",
    "                ex1 = 0\n",
    "            if ey1 < 0:\n",
    "                ey1 = 0\n",
    "            if ex2 > w:\n",
    "                ex2 = w\n",
    "            if ey2 > h:\n",
    "                ey2 = h\n",
    "                \n",
    "            glassesWidth = int(ex2 - ex1)\n",
    "            glassesHeight = int(ey2 - ey1)\n",
    "            \n",
    "            \n",
    "            glasses = cv2.resize(imgGlasses, (glassesWidth,glassesHeight), interpolation = cv2.INTER_AREA)\n",
    "            emask = cv2.resize(orig_mask_glasses, (glassesWidth,glassesHeight), interpolation = cv2.INTER_AREA)\n",
    "            emask_inv = cv2.resize(orig_mask_glasses_inv, (glassesWidth,glassesHeight), interpolation = cv2.INTER_AREA)\n",
    "            \n",
    "            eroi_gl = roi_color[ey1:ey2, ex1:ex2]\n",
    "            eroi_bg = cv2.bitwise_and(eroi_gl,eroi_gl,mask = emask_inv)\n",
    "            \n",
    "            eroi_fg = cv2.bitwise_and(glasses, glasses, mask = emask)\n",
    "            edst = cv2.add(eroi_bg,eroi_fg)\n",
    "            \n",
    "            roi_color[ey1:ey2, ex1:ex2] = edst\n",
    "            \n",
    "            \n",
    "            break\n",
    "        \n",
    "    cv2.imshow('Video', frame)\n",
    "    \n",
    "    if cv2.waitKey(1) & 0xFF == ord('q'):\n",
    "                    break\n",
    "                \n",
    "video_capture.release()\n",
    "cv2.destroyAllWindows()"
   ]
  },
  {
   "cell_type": "code",
   "execution_count": null,
   "metadata": {},
   "outputs": [],
   "source": []
  },
  {
   "cell_type": "code",
   "execution_count": null,
   "metadata": {},
   "outputs": [],
   "source": []
  },
  {
   "cell_type": "code",
   "execution_count": null,
   "metadata": {},
   "outputs": [],
   "source": []
  },
  {
   "cell_type": "code",
   "execution_count": null,
   "metadata": {},
   "outputs": [],
   "source": []
  },
  {
   "cell_type": "code",
   "execution_count": null,
   "metadata": {},
   "outputs": [],
   "source": []
  },
  {
   "cell_type": "code",
   "execution_count": null,
   "metadata": {},
   "outputs": [],
   "source": []
  },
  {
   "cell_type": "code",
   "execution_count": null,
   "metadata": {},
   "outputs": [],
   "source": []
  },
  {
   "cell_type": "code",
   "execution_count": null,
   "metadata": {},
   "outputs": [],
   "source": []
  },
  {
   "cell_type": "code",
   "execution_count": null,
   "metadata": {},
   "outputs": [],
   "source": []
  },
  {
   "cell_type": "code",
   "execution_count": null,
   "metadata": {},
   "outputs": [],
   "source": []
  },
  {
   "cell_type": "code",
   "execution_count": null,
   "metadata": {},
   "outputs": [],
   "source": []
  },
  {
   "cell_type": "code",
   "execution_count": null,
   "metadata": {},
   "outputs": [],
   "source": []
  },
  {
   "cell_type": "code",
   "execution_count": null,
   "metadata": {},
   "outputs": [],
   "source": []
  },
  {
   "cell_type": "code",
   "execution_count": null,
   "metadata": {},
   "outputs": [],
   "source": []
  },
  {
   "cell_type": "code",
   "execution_count": null,
   "metadata": {},
   "outputs": [],
   "source": []
  },
  {
   "cell_type": "code",
   "execution_count": null,
   "metadata": {},
   "outputs": [],
   "source": []
  }
 ],
 "metadata": {
  "kernelspec": {
   "display_name": "Python 3",
   "language": "python",
   "name": "python3"
  },
  "language_info": {
   "codemirror_mode": {
    "name": "ipython",
    "version": 3
   },
   "file_extension": ".py",
   "mimetype": "text/x-python",
   "name": "python",
   "nbconvert_exporter": "python",
   "pygments_lexer": "ipython3",
   "version": "3.6.9"
  }
 },
 "nbformat": 4,
 "nbformat_minor": 2
}
