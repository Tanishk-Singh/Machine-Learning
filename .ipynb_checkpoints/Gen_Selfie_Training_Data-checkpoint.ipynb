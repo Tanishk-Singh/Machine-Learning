{
 "cells": [
  {
   "cell_type": "code",
   "execution_count": null,
   "metadata": {},
   "outputs": [],
   "source": [
    "import cv2\n",
    "import numpy as np\n",
    "face_casscade = cv2.CascadeClassifier('haarcascade_frontalface_alt.xml')\n",
    "\n",
    "cap = cv2.VideoCapture(0)\n",
    "face_data = []\n",
    "skip = 0\n",
    "dataset_path = '../Data_Sets/'\n",
    "\n",
    "file_name = input(\"Enter the person's name\")\n",
    "\n",
    "while True :\n",
    "    \n",
    "    ret,frame = cap.read()\n",
    "    gray_frame = cv2.cvtColor(frame,cv2.COLOR_BGR2GRAY)\n",
    "     \n",
    "    if ret == False:\n",
    "        continue\n",
    "    \n",
    "    faces = face_casscade.detectMultiScale(gray_frame,1.3,2)\n",
    "    \n",
    "    if(len(faces))==0:\n",
    "        continue\n",
    "    \n",
    "    faces = sorted(faces,key= lambda f:f[2]*f[3])\n",
    "    \n",
    "    \n",
    "    \n",
    "    for face in faces[-1:]:\n",
    "        x,y,w,h = face\n",
    "        cv2.rectangle(frame,(x,y),(x+w,y+h),(0,200,255),2)\n",
    "\n",
    "        offset = 10\n",
    "        face_section = frame[y-offset:y+h+offset,x-offset:x+w+offset]\n",
    "        face_section = cv2.resize(face_section,(100,100))\n",
    "        \n",
    "        skip += 1\n",
    "        \n",
    "        if skip%10==0:\n",
    "            \n",
    "            face_data.append(face_section)\n",
    "            print (len(face_data))\n",
    "        \n",
    "    \n",
    "    cv2.imshow(\"Tanishk's Frame\", frame)\n",
    "    cv2.imshow(\"Face Section\", face_section)\n",
    "    \n",
    "    key_pressed = cv2.waitKey(1) & 0XFF\n",
    "    \n",
    "    if key_pressed == ord('q'):\n",
    "        break\n",
    "        \n",
    "face_data = np.asarray(face_data)\n",
    "face_data = face_data.reshape((face_data.shape[0],-1))\n",
    "print(face_data.shape)\n",
    "\n",
    "np.save(dataset_path + file_name + '.npy', face_data)\n",
    "print(\"Data successfully saved at : \"+ dataset_path + file_name + '.npy')\n",
    "\n",
    "cap.release()\n",
    "cv2.destroyAllWindows()\n",
    "    "
   ]
  },
  {
   "cell_type": "code",
   "execution_count": null,
   "metadata": {},
   "outputs": [],
   "source": [
    "dataset_path = '../Data_Sets/'\n",
    "file_name = \"Tanishk\"\n",
    "print(dataset_path + file_name + '.npy')"
   ]
  },
  {
   "cell_type": "code",
   "execution_count": null,
   "metadata": {},
   "outputs": [],
   "source": []
  },
  {
   "cell_type": "code",
   "execution_count": null,
   "metadata": {},
   "outputs": [],
   "source": []
  },
  {
   "cell_type": "code",
   "execution_count": null,
   "metadata": {},
   "outputs": [],
   "source": []
  },
  {
   "cell_type": "code",
   "execution_count": null,
   "metadata": {},
   "outputs": [],
   "source": []
  },
  {
   "cell_type": "code",
   "execution_count": null,
   "metadata": {},
   "outputs": [],
   "source": []
  },
  {
   "cell_type": "code",
   "execution_count": null,
   "metadata": {},
   "outputs": [],
   "source": []
  },
  {
   "cell_type": "code",
   "execution_count": null,
   "metadata": {},
   "outputs": [],
   "source": []
  }
 ],
 "metadata": {
  "kernelspec": {
   "display_name": "Python 3",
   "language": "python",
   "name": "python3"
  },
  "language_info": {
   "codemirror_mode": {
    "name": "ipython",
    "version": 3
   },
   "file_extension": ".py",
   "mimetype": "text/x-python",
   "name": "python",
   "nbconvert_exporter": "python",
   "pygments_lexer": "ipython3",
   "version": "3.6.9"
  }
 },
 "nbformat": 4,
 "nbformat_minor": 2
}
